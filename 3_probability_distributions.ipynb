{
 "cells": [
  {
   "cell_type": "code",
   "execution_count": 1,
   "metadata": {},
   "outputs": [],
   "source": [
    "import numpy as np\n",
    "import pandas as pd\n",
    "import matplotlib.pyplot as plt\n",
    "from math import factorial\n",
    "from scipy.special import erfinv, comb\n",
    "from scipy.stats import uniform, binom, norm\n",
    "from dataclasses import dataclass\n",
    "from sklearn.metrics import accuracy_score\n",
    "\n",
    "import utils"
   ]
  },
  {
   "cell_type": "code",
   "execution_count": 2,
   "metadata": {},
   "outputs": [],
   "source": [
    "def uniform_generator(a, b, num_samples=100):\n",
    "    \"\"\"\n",
    "    Generates an array of uniformly distributed random numbers within the specified range.\n",
    "\n",
    "    Parameters:\n",
    "    - a (float): The lower bound of the range.\n",
    "    - b (float): The upper bound of the range.\n",
    "    - num_samples (int): The number of samples to generate (default: 100).\n",
    "\n",
    "    Returns:\n",
    "    - array (ndarray): An array of random numbers sampled uniformly from the range [a, b).\n",
    "    \"\"\"\n",
    "\n",
    "    np.random.seed(42)\n",
    "\n",
    "    array = np.random.uniform(a, b, num_samples)\n",
    "\n",
    "    return array"
   ]
  },
  {
   "cell_type": "code",
   "execution_count": 3,
   "metadata": {},
   "outputs": [
    {
     "name": "stdout",
     "output_type": "stream",
     "text": [
      "6 randomly generated values between 0 and 1:\n",
      "[0.375 0.951 0.732 0.599 0.156 0.156]\n",
      "\n",
      "3 randomly generated values between 20 and 55:\n",
      "[33.109 53.275 45.62 ]\n",
      "\n",
      "1 randomly generated value between 0 and 100:\n",
      "[37.454]\n"
     ]
    }
   ],
   "source": [
    "print(\n",
    "    f\"6 randomly generated values between 0 and 1:\\n{np.array2string(uniform_generator(0, 1, num_samples=6), precision=3)}\\n\"\n",
    ")\n",
    "print(\n",
    "    f\"3 randomly generated values between 20 and 55:\\n{np.array2string(uniform_generator(20, 55, num_samples=3), precision=3)}\\n\"\n",
    ")\n",
    "print(\n",
    "    f\"1 randomly generated value between 0 and 100:\\n{np.array2string(uniform_generator(0, 100, num_samples=1), precision=3)}\"\n",
    ")"
   ]
  },
  {
   "cell_type": "code",
   "execution_count": 4,
   "metadata": {},
   "outputs": [],
   "source": [
    "def inverse_cdf_gaussian(y, mu, sigma):\n",
    "    \"\"\"\n",
    "    Calculates the inverse cumulative distribution function (CDF) of a Gaussian distribution.\n",
    "\n",
    "    Parameters:\n",
    "    - y (float or ndarray): The probability or array of probabilities.\n",
    "    - mu (float): The mean of the Gaussian distribution.\n",
    "    - sigma (float): The standard deviation of the Gaussian distribution.\n",
    "\n",
    "    Returns:\n",
    "    - x (float or ndarray): The corresponding value(s) from the Gaussian distribution that correspond to the given probability/ies.\n",
    "    \"\"\"\n",
    "    x = sigma * np.sqrt(2) * erfinv(2 * y - 1) + mu\n",
    "\n",
    "    return x"
   ]
  },
  {
   "cell_type": "code",
   "execution_count": 5,
   "metadata": {},
   "outputs": [
    {
     "name": "stdout",
     "output_type": "stream",
     "text": [
      "Inverse of Gaussian CDF with mu 15 and sigma 5 for value 1e-10: -16.807\n",
      "Inverse of Gaussian CDF with mu 15 and sigma 5 for value 0: -inf\n",
      "Inverse of Gaussian CDF with mu 20 and sigma 0.5 for value 0.4: 19.873\n",
      "Inverse of Gaussian CDF with mu 15 and sigma 5 for value 1: inf\n"
     ]
    }
   ],
   "source": [
    "# Test your function\n",
    "\n",
    "print(\n",
    "    f\"Inverse of Gaussian CDF with mu {15} and sigma {5} for value {1e-10}: {inverse_cdf_gaussian(1e-10, 15, 5):.3f}\"\n",
    ")\n",
    "print(\n",
    "    f\"Inverse of Gaussian CDF with mu {15} and sigma {5} for value {0}: {inverse_cdf_gaussian(0, 15, 5)}\"\n",
    ")\n",
    "print(\n",
    "    f\"Inverse of Gaussian CDF with mu {20} and sigma {0.5} for value {0.4}: {inverse_cdf_gaussian(0.4, 20, 0.5):.3f}\"\n",
    ")\n",
    "print(\n",
    "    f\"Inverse of Gaussian CDF with mu {15} and sigma {5} for value {1}: {inverse_cdf_gaussian(1, 15, 5)}\"\n",
    ")"
   ]
  },
  {
   "cell_type": "code",
   "execution_count": 6,
   "metadata": {},
   "outputs": [],
   "source": [
    "def gaussian_generator(mu, sigma, num_samples):\n",
    "    # Generate an array with num_samples elements that distribute uniformally between 0 and 1\n",
    "    u = np.random.normal(0, 1, num_samples)\n",
    "\n",
    "    # Use the uniform-distributed sample to generate Gaussian-distributed data\n",
    "    # Hint: You need to sample from the inverse of the CDF of the distribution you are generating\n",
    "    array = u * sigma + mu\n",
    "\n",
    "    return array"
   ]
  },
  {
   "cell_type": "code",
   "execution_count": 7,
   "metadata": {},
   "outputs": [
    {
     "data": {
      "image/png": "[encoded data removed]",
      "text/plain": [
       "<Figure size 1000x400 with 1 Axes>"
      ]
     },
     "metadata": {},
     "output_type": "display_data"
    }
   ],
   "source": [
    "# Test your function\n",
    "\n",
    "gaussian_0 = gaussian_generator(0, 1, 1000)\n",
    "gaussian_1 = gaussian_generator(5, 3, 1000)\n",
    "gaussian_2 = gaussian_generator(10, 5, 1000)\n",
    "\n",
    "utils.plot_gaussian_distributions(gaussian_0, gaussian_1, gaussian_2)"
   ]
  },
  {
   "cell_type": "code",
   "execution_count": 8,
   "metadata": {},
   "outputs": [],
   "source": [
    "def inverse_cdf_binomial(y, n, p):\n",
    "    \"\"\"\n",
    "    Calculates the inverse cumulative distribution function (CDF) of a binomial distribution.\n",
    "\n",
    "    Parameters:\n",
    "    - y (float or ndarray): The probability or array of probabilities.\n",
    "    - n (int): The number of trials in the binomial distribution.\n",
    "    - p (float): The probability of success in each trial.\n",
    "\n",
    "    Returns:\n",
    "    - x (float or ndarray): The corresponding value(s) from the binomial distribution that correspond to the given probability/ies.\n",
    "    \"\"\"\n",
    "\n",
    "    x = binom.ppf(y, n, p)\n",
    "\n",
    "    return x"
   ]
  },
  {
   "cell_type": "code",
   "execution_count": 9,
   "metadata": {},
   "outputs": [
    {
     "name": "stdout",
     "output_type": "stream",
     "text": [
      "Inverse of Binomial CDF with n 15 and p 0.9 for value 1e-10: 3.000\n",
      "Inverse of Binomial CDF with n 15 and p 0.5 for value 0: -1.0\n",
      "Inverse of Binomial CDF with n 20 and p 0.2 for value 0.4: 3.000\n",
      "Inverse of Binomial CDF with n 15 and p 0.5 for value 1: 15.0\n"
     ]
    }
   ],
   "source": [
    "# Test your function\n",
    "\n",
    "print(\n",
    "    f\"Inverse of Binomial CDF with n {15} and p {0.9} for value {1e-10}: {inverse_cdf_binomial(1e-10, 15, 0.9):.3f}\"\n",
    ")\n",
    "print(\n",
    "    f\"Inverse of Binomial CDF with n {15} and p {0.5} for value {0}: {inverse_cdf_binomial(0, 15, 0.5)}\"\n",
    ")\n",
    "print(\n",
    "    f\"Inverse of Binomial CDF with n {20} and p {0.2} for value {0.4}: {inverse_cdf_binomial(0.4, 20, 0.2):.3f}\"\n",
    ")\n",
    "print(\n",
    "    f\"Inverse of Binomial CDF with n {15} and p {0.5} for value {1}: {inverse_cdf_binomial(1, 15, 0.5)}\"\n",
    ")"
   ]
  },
  {
   "cell_type": "code",
   "execution_count": 10,
   "metadata": {},
   "outputs": [],
   "source": [
    "def binomial_generator(n, p, num_samples):\n",
    "    \"\"\"\n",
    "    Generates an array of binomially distributed random numbers.\n",
    "\n",
    "    Args:\n",
    "        n (int): The number of trials in the binomial distribution.\n",
    "        p (float): The probability of success in each trial.\n",
    "        num_samples (int): The number of samples to generate.\n",
    "\n",
    "    Returns:\n",
    "        array: An array of binomially distributed random numbers.\n",
    "    \"\"\"\n",
    "\n",
    "    # Generate an array with num_samples elements that distribute uniformally between 0 and 1\n",
    "    u = np.random.uniform(0, 1, num_samples)\n",
    "\n",
    "    # Use the uniform-distributed sample to generate binomial-distributed data\n",
    "    # Hint: You need to sample from the inverse of the CDF of the distribution you are generating\n",
    "    array = inverse_cdf_binomial(u, n, p)\n",
    "\n",
    "    return array"
   ]
  },
  {
   "cell_type": "code",
   "execution_count": 11,
   "metadata": {},
   "outputs": [
    {
     "data": {
      "image/png": "[encoded data removed]",
      "text/plain": [
       "<Figure size 1000x400 with 1 Axes>"
      ]
     },
     "metadata": {},
     "output_type": "display_data"
    }
   ],
   "source": [
    "# Test your function\n",
    "\n",
    "binomial_0 = binomial_generator(12, 0.4, 1000)\n",
    "binomial_1 = binomial_generator(15, 0.5, 1000)\n",
    "binomial_2 = binomial_generator(25, 0.8, 1000)\n",
    "\n",
    "utils.plot_binomial_distributions(binomial_0, binomial_1, binomial_2)"
   ]
  },
  {
   "cell_type": "code",
   "execution_count": 12,
   "metadata": {},
   "outputs": [],
   "source": [
    "FEATURES = [\"height\", \"weight\", \"bark_days\", \"ear_head_ratio\"]"
   ]
  },
  {
   "cell_type": "code",
   "execution_count": 13,
   "metadata": {},
   "outputs": [
    {
     "name": "stdout",
     "output_type": "stream",
     "text": [
      "The dataset generated from the generator functions is not identical to the expect one.\n",
      "\n",
      "Falling back to the pre-loaded one.\n"
     ]
    },
    {
     "data": {
      "text/html": [
       "<div>\n",
       "<style scoped>\n",
       "    .dataframe tbody tr th:only-of-type {\n",
       "        vertical-align: middle;\n",
       "    }\n",
       "\n",
       "    .dataframe tbody tr th {\n",
       "        vertical-align: top;\n",
       "    }\n",
       "\n",
       "    .dataframe thead th {\n",
       "        text-align: right;\n",
       "    }\n",
       "</style>\n",
       "<table border=\"1\" class=\"dataframe\">\n",
       "  <thead>\n",
       "    <tr style=\"text-align: right;\">\n",
       "      <th></th>\n",
       "      <th>height</th>\n",
       "      <th>weight</th>\n",
       "      <th>bark_days</th>\n",
       "      <th>ear_head_ratio</th>\n",
       "      <th>breed</th>\n",
       "    </tr>\n",
       "  </thead>\n",
       "  <tbody>\n",
       "    <tr>\n",
       "      <th>2836</th>\n",
       "      <td>39.697810</td>\n",
       "      <td>31.740980</td>\n",
       "      <td>9.0</td>\n",
       "      <td>0.193120</td>\n",
       "      <td>2</td>\n",
       "    </tr>\n",
       "    <tr>\n",
       "      <th>1002</th>\n",
       "      <td>36.710641</td>\n",
       "      <td>21.140427</td>\n",
       "      <td>26.0</td>\n",
       "      <td>0.163527</td>\n",
       "      <td>0</td>\n",
       "    </tr>\n",
       "    <tr>\n",
       "      <th>1075</th>\n",
       "      <td>34.726930</td>\n",
       "      <td>19.817954</td>\n",
       "      <td>24.0</td>\n",
       "      <td>0.386113</td>\n",
       "      <td>0</td>\n",
       "    </tr>\n",
       "    <tr>\n",
       "      <th>1583</th>\n",
       "      <td>32.324884</td>\n",
       "      <td>30.812210</td>\n",
       "      <td>18.0</td>\n",
       "      <td>0.463242</td>\n",
       "      <td>1</td>\n",
       "    </tr>\n",
       "    <tr>\n",
       "      <th>248</th>\n",
       "      <td>37.691499</td>\n",
       "      <td>21.794333</td>\n",
       "      <td>28.0</td>\n",
       "      <td>0.118190</td>\n",
       "      <td>0</td>\n",
       "    </tr>\n",
       "    <tr>\n",
       "      <th>814</th>\n",
       "      <td>36.688852</td>\n",
       "      <td>21.125901</td>\n",
       "      <td>26.0</td>\n",
       "      <td>0.165052</td>\n",
       "      <td>0</td>\n",
       "    </tr>\n",
       "    <tr>\n",
       "      <th>1407</th>\n",
       "      <td>30.844078</td>\n",
       "      <td>27.110196</td>\n",
       "      <td>16.0</td>\n",
       "      <td>0.399051</td>\n",
       "      <td>1</td>\n",
       "    </tr>\n",
       "    <tr>\n",
       "      <th>3376</th>\n",
       "      <td>38.616784</td>\n",
       "      <td>30.814387</td>\n",
       "      <td>8.0</td>\n",
       "      <td>0.169269</td>\n",
       "      <td>2</td>\n",
       "    </tr>\n",
       "    <tr>\n",
       "      <th>2700</th>\n",
       "      <td>44.655532</td>\n",
       "      <td>35.990456</td>\n",
       "      <td>12.0</td>\n",
       "      <td>0.281653</td>\n",
       "      <td>2</td>\n",
       "    </tr>\n",
       "    <tr>\n",
       "      <th>533</th>\n",
       "      <td>35.209095</td>\n",
       "      <td>20.139397</td>\n",
       "      <td>24.0</td>\n",
       "      <td>0.322284</td>\n",
       "      <td>0</td>\n",
       "    </tr>\n",
       "  </tbody>\n",
       "</table>\n",
       "</div>"
      ],
      "text/plain": [
       "         height     weight  bark_days  ear_head_ratio  breed\n",
       "2836  39.697810  31.740980        9.0        0.193120      2\n",
       "1002  36.710641  21.140427       26.0        0.163527      0\n",
       "1075  34.726930  19.817954       24.0        0.386113      0\n",
       "1583  32.324884  30.812210       18.0        0.463242      1\n",
       "248   37.691499  21.794333       28.0        0.118190      0\n",
       "814   36.688852  21.125901       26.0        0.165052      0\n",
       "1407  30.844078  27.110196       16.0        0.399051      1\n",
       "3376  38.616784  30.814387        8.0        0.169269      2\n",
       "2700  44.655532  35.990456       12.0        0.281653      2\n",
       "533   35.209095  20.139397       24.0        0.322284      0"
      ]
     },
     "execution_count": 13,
     "metadata": {},
     "output_type": "execute_result"
    }
   ],
   "source": [
    "# Read the pre-loaded dataset\n",
    "pre_loaded_df = pd.read_pickle(\"df_all_breeds.pkl\")\n",
    "\n",
    "try:\n",
    "    # Generate the dataset using the graded functions from section 1\n",
    "    df_all_breeds = utils.generate_data(\n",
    "        gaussian_generator, binomial_generator, uniform_generator\n",
    "    )\n",
    "except:\n",
    "    # In case of an error\n",
    "    print(\n",
    "        \"There was an error when generating the dataset using the generator functions.\\n\\nFalling back to the pre-loaded one.\"\n",
    "    )\n",
    "    df_all_breeds = pre_loaded_df\n",
    "else:\n",
    "    # In case that the generated dataset does not match the pre-loaded one\n",
    "    if not df_all_breeds.equals(pre_loaded_df):\n",
    "        print(\n",
    "            \"The dataset generated from the generator functions is not identical to the expect one.\\n\\nFalling back to the pre-loaded one.\"\n",
    "        )\n",
    "        df_all_breeds = pre_loaded_df\n",
    "\n",
    "\n",
    "# Print the first 10 rows of the dataframe\n",
    "df_all_breeds.head(10)"
   ]
  },
  {
   "cell_type": "code",
   "execution_count": 14,
   "metadata": {},
   "outputs": [],
   "source": [
    "# Define a 70/30 training/testing split\n",
    "split = int(len(df_all_breeds) * 0.7)\n",
    "\n",
    "# Do the split\n",
    "df_train = df_all_breeds[:split].reset_index(drop=True)\n",
    "df_test = df_all_breeds[split:].reset_index(drop=True)"
   ]
  },
  {
   "cell_type": "code",
   "execution_count": 15,
   "metadata": {},
   "outputs": [],
   "source": [
    "def pdf_uniform(x, a, b):\n",
    "    \"\"\"\n",
    "    Calculates the probability density function (PDF) for a uniform distribution between 'a' and 'b' at a given point 'x'.\n",
    "\n",
    "    Args:\n",
    "        x (float): The value at which the PDF is evaluated.\n",
    "        a (float): The lower bound of the uniform distribution.\n",
    "        b (float): The upper bound of the uniform distribution.\n",
    "\n",
    "    Returns:\n",
    "        float: The PDF value at the given point 'x'. Returns 0 if 'x' is outside the range [a, b].\n",
    "    \"\"\"\n",
    "    \n",
    "    pdf = 1 / (b - a)\n",
    "\n",
    "    if x > b or x < a:\n",
    "        pdf = 0\n",
    "\n",
    "    return pdf"
   ]
  },
  {
   "cell_type": "code",
   "execution_count": 16,
   "metadata": {},
   "outputs": [
    {
     "name": "stdout",
     "output_type": "stream",
     "text": [
      "Uniform PDF with a=0 and b=5 for value 1e-10: 0.200\n",
      "Uniform PDF with a=20 and b=25 for value 5: 0.000\n",
      "Uniform PDF with a=2 and b=10 for value 5.4: 0.125\n",
      "Uniform PDF with a=35 and b=60 for value 42: 0.040\n"
     ]
    }
   ],
   "source": [
    "# Test your function\n",
    "\n",
    "print(\n",
    "    f\"Uniform PDF with a={0} and b={5} for value {1e-10}: {pdf_uniform(1e-10, 0, 5):.3f}\"\n",
    ")\n",
    "print(f\"Uniform PDF with a={20} and b={25} for value {5}: {pdf_uniform(5, 20, 25):.3f}\")\n",
    "print(\n",
    "    f\"Uniform PDF with a={2} and b={10} for value {5.4}: {pdf_uniform(5.4, 2, 10):.3f}\"\n",
    ")\n",
    "print(\n",
    "    f\"Uniform PDF with a={35} and b={60} for value {42}: {pdf_uniform(42, 35, 60):.3f}\"\n",
    ")"
   ]
  },
  {
   "cell_type": "code",
   "execution_count": 17,
   "metadata": {},
   "outputs": [],
   "source": [
    "def pdf_gaussian(x, mu, sigma):\n",
    "    \"\"\"\n",
    "    Calculate the probability density function (PDF) of a Gaussian distribution at a given value.\n",
    "\n",
    "    Args:\n",
    "        x (float or array-like): The value(s) at which to evaluate the PDF.\n",
    "        mu (float): The mean of the Gaussian distribution.\n",
    "        sigma (float): The standard deviation of the Gaussian distribution.\n",
    "\n",
    "    Returns:\n",
    "        float or ndarray: The PDF value(s) at the given point(s) x.\n",
    "    \"\"\"\n",
    "\n",
    "    pdf = np.exp(-1 * (((x - mu) / sigma) ** 2) / 2) / (sigma * np.sqrt(2 * np.pi))\n",
    "\n",
    "    return pdf"
   ]
  },
  {
   "cell_type": "code",
   "execution_count": 18,
   "metadata": {},
   "outputs": [
    {
     "name": "stdout",
     "output_type": "stream",
     "text": [
      "Gaussian PDF with mu=15 and sigma=5 for value 10: 0.048\n",
      "Gaussian PDF with mu=15 and sigma=5 for value 0: 0.001\n",
      "Gaussian PDF with mu=20 and sigma=0.5 for value 20: 0.798\n",
      "Gaussian PDF with mu=15 and sigma=5 for value 1: 0.002\n"
     ]
    }
   ],
   "source": [
    "# Test your function\n",
    "\n",
    "print(\n",
    "    f\"Gaussian PDF with mu={15} and sigma={5} for value {10}: {pdf_gaussian(10, 15, 5):.3f}\"\n",
    ")\n",
    "print(\n",
    "    f\"Gaussian PDF with mu={15} and sigma={5} for value {0}: {pdf_gaussian(0, 15, 5):.3f}\"\n",
    ")\n",
    "print(\n",
    "    f\"Gaussian PDF with mu={20} and sigma={0.5} for value {20}: {pdf_gaussian(20, 20, 0.5):.3f}\"\n",
    ")\n",
    "print(\n",
    "    f\"Gaussian PDF with mu={15} and sigma={5} for value {1}: {pdf_gaussian(1, 15, 5):.3f}\"\n",
    ")"
   ]
  },
  {
   "cell_type": "code",
   "execution_count": 19,
   "metadata": {},
   "outputs": [],
   "source": [
    "def pmf_binomial(x, n, p):\n",
    "    \"\"\"\n",
    "    Calculate the probability mass function (PMF) of a binomial distribution at a specific value.\n",
    "\n",
    "    Args:\n",
    "        x (int): The value at which to evaluate the PMF.\n",
    "        n (int): The number of trials in the binomial distribution.\n",
    "        p (float): The probability of success for each trial.\n",
    "\n",
    "    Returns:\n",
    "        float: The probability mass function (PMF) of the binomial distribution at the specified value.\n",
    "    \"\"\"\n",
    "\n",
    "    if n < x:\n",
    "        return 0\n",
    "    pmf = (\n",
    "        factorial(n)\n",
    "        * (p**x)\n",
    "        * ((1 - p) ** (n - x))\n",
    "        / (factorial(x) * factorial(n - x))\n",
    "    )\n",
    "\n",
    "    return pmf"
   ]
  },
  {
   "cell_type": "code",
   "execution_count": 20,
   "metadata": {},
   "outputs": [
    {
     "name": "stdout",
     "output_type": "stream",
     "text": [
      "Binomial PMF with n=15 and p=0.9 for value 15: 0.206\n",
      "Binomial PMF with n=30 and p=0.5 for value 15: 0.144\n",
      "Binomial PMF with n=20 and p=0.9 for value 15: 0.032\n",
      "Binomial PMF with n=15 and p=0.5 for value 20: 0.000\n"
     ]
    }
   ],
   "source": [
    "# Test your function\n",
    "\n",
    "print(\n",
    "    f\"Binomial PMF with n={15} and p={0.9} for value {15}: {pmf_binomial(15, 15, 0.9):.3f}\"\n",
    ")\n",
    "print(\n",
    "    f\"Binomial PMF with n={30} and p={0.5} for value {15}: {pmf_binomial(15, 30, 0.5):.3f}\"\n",
    ")\n",
    "print(\n",
    "    f\"Binomial PMF with n={20} and p={0.9} for value {15}: {pmf_binomial(15, 20, 0.9):.3f}\"\n",
    ")\n",
    "print(\n",
    "    f\"Binomial PMF with n={15} and p={0.5} for value {20}: {pmf_binomial(20, 15, 0.5):.3f}\"\n",
    ")"
   ]
  },
  {
   "cell_type": "code",
   "execution_count": 21,
   "metadata": {},
   "outputs": [
    {
     "name": "stdout",
     "output_type": "stream",
     "text": [
      "Gaussian:\n",
      "mu = 24.583 and sigma = 7.232 for sample: [26.31 32.45 14.99]\n",
      "\n",
      "Binomial:\n",
      "n = 30 and p = 0.480 for sample: [ 9 26 18 14  5]\n",
      "\n",
      "Uniform:\n",
      "a = 0.070 and b = 0.900 for sample: [0.9  0.26 0.18 0.07 0.5 ]\n"
     ]
    }
   ],
   "source": [
    "m, s = utils.estimate_gaussian_params(np.array([26.31, 32.45, 14.99]))\n",
    "print(\n",
    "    f\"Gaussian:\\nmu = {m:.3f} and sigma = {s:.3f} for sample: {np.array([26.31, 32.45, 14.99])}\\n\"\n",
    ")\n",
    "\n",
    "n, p = utils.estimate_binomial_params(np.array([9, 26, 18, 14, 5]))\n",
    "print(\n",
    "    f\"Binomial:\\nn = {n} and p = {p:.3f} for sample: {np.array([9, 26, 18, 14, 5])}\\n\"\n",
    ")\n",
    "\n",
    "a, b = utils.estimate_uniform_params(np.array([0.9, 0.26, 0.18, 0.07, 0.5]))\n",
    "print(\n",
    "    f\"Uniform:\\na = {a:.3f} and b = {b:.3f} for sample: {np.array([0.9, 0.26, 0.18, 0.07, 0.5])}\"\n",
    ")"
   ]
  },
  {
   "cell_type": "code",
   "execution_count": 22,
   "metadata": {},
   "outputs": [
    {
     "data": {
      "text/plain": [
       "{0: {'height': {'mu': 35.03, 'sigma': 1.518},\n",
       "  'weight': {'mu': 20.02, 'sigma': 1.012},\n",
       "  'bark_days': {'n': 30, 'p': 0.801},\n",
       "  'ear_head_ratio': {'a': 0.1, 'b': 0.597}},\n",
       " 1: {'height': {'mu': 29.971, 'sigma': 2.01},\n",
       "  'weight': {'mu': 24.927, 'sigma': 5.025},\n",
       "  'bark_days': {'n': 30, 'p': 0.498},\n",
       "  'ear_head_ratio': {'a': 0.201, 'b': 0.5}},\n",
       " 2: {'height': {'mu': 39.814, 'sigma': 3.572},\n",
       "  'weight': {'mu': 31.841, 'sigma': 3.061},\n",
       "  'bark_days': {'n': 30, 'p': 0.296},\n",
       "  'ear_head_ratio': {'a': 0.101, 'b': 0.3}}}"
      ]
     },
     "execution_count": 22,
     "metadata": {},
     "output_type": "execute_result"
    }
   ],
   "source": [
    "# Compute the estimated parameters from the training dataset\n",
    "train_params = utils.compute_training_params(df_train, FEATURES)\n",
    "\n",
    "# Print the parameters dictionary with rounded values - this is just for prettier visualizations\n",
    "utils.round_dict(train_params)"
   ]
  },
  {
   "cell_type": "code",
   "execution_count": 23,
   "metadata": {},
   "outputs": [
    {
     "name": "stdout",
     "output_type": "stream",
     "text": [
      "estimated value of n for the feature bark_days for the breed 0: 30\n",
      "\n",
      "estimated value of sigma for the feature height for the breed 2: 3.572\n"
     ]
    }
   ],
   "source": [
    "# Get the estimated value of n for the feature bark_days for the breed 0\n",
    "estimated_param = train_params[0][\"bark_days\"][\"n\"]\n",
    "print(\n",
    "    f\"estimated value of n for the feature bark_days for the breed 0: {estimated_param}\\n\"\n",
    ")\n",
    "\n",
    "# Get the estimated value of sigma for the feature height for the breed 2\n",
    "estimated_param = train_params[2][\"height\"][\"sigma\"]\n",
    "print(\n",
    "    f\"estimated value of sigma for the feature height for the breed 2: {estimated_param:.3f}\"\n",
    ")"
   ]
  },
  {
   "cell_type": "code",
   "execution_count": 24,
   "metadata": {},
   "outputs": [],
   "source": [
    "def compute_breed_proportions(df):\n",
    "    \"\"\"\n",
    "    Computes the estimated probabilities of each breed.\n",
    "\n",
    "    Args:\n",
    "        df (pandas.DataFrame): The dataframe containing the training data.\n",
    "\n",
    "    Returns:\n",
    "        - probs_dict (dict): A dictionary that contains the proportion of data belonging to each breed.\n",
    "    \"\"\"\n",
    "\n",
    "    probs_dict = {}\n",
    "\n",
    "    # Loop over the breeds\n",
    "    for breed in df[\"breed\"]:\n",
    "        # Slice the original df to only include data for the current breed\n",
    "        # You can use the syntax df[df['breed'] == group] replacing group with the corresponding variable\n",
    "        df_breed = df[df[\"breed\"] == breed]\n",
    "\n",
    "        # Compute the probability of each class (breed)\n",
    "        # You can get the number of rows in a dataframe by using len(dataframe)\n",
    "        prob_class = len(df_breed) / len(df)\n",
    "\n",
    "        # Save the probability of each class (breed) in the probabilities dict rouding to 3 decimal places\n",
    "        probs_dict[breed] = round(prob_class, 3)\n",
    "\n",
    "    return probs_dict"
   ]
  },
  {
   "cell_type": "code",
   "execution_count": 25,
   "metadata": {},
   "outputs": [
    {
     "name": "stdout",
     "output_type": "stream",
     "text": [
      "Probability of each class for training split:\n",
      "\n",
      "{2: 0.26, 0: 0.346, 1: 0.393}\n"
     ]
    }
   ],
   "source": [
    "# Test your function\n",
    "\n",
    "train_class_probs = compute_breed_proportions(df_train)\n",
    "\n",
    "print(f\"Probability of each class for training split:\\n\\n{train_class_probs}\")"
   ]
  },
  {
   "cell_type": "code",
   "execution_count": 26,
   "metadata": {},
   "outputs": [],
   "source": [
    "def prob_of_X_given_C(X, features, breed, params_dict):\n",
    "    \"\"\"\n",
    "    Calculate the conditional probability of X given a specific breed, using the given features and parameters.\n",
    "\n",
    "    Args:\n",
    "        X (list): List of feature values for which the probability needs to be calculated.\n",
    "        features (list): List of feature names corresponding to the feature values in X.\n",
    "        breed (int): The breed for which the probability is calculated.\n",
    "        params_dict (dict): Dictionary containing the parameters for different breeds and features.\n",
    "\n",
    "    Returns:\n",
    "        float: The conditional probability of X given the specified breed.\n",
    "    \"\"\"\n",
    "\n",
    "    if len(X) != len(features):\n",
    "        print(\"X and list of features should have the same length\")\n",
    "        return 0\n",
    "\n",
    "    probability = 1.0\n",
    "\n",
    "    for feature_val, feature_name in zip(X, features):\n",
    "        # Match the current feature based on its name\n",
    "        match feature_name:\n",
    "            case \"height\" | \"weight\":\n",
    "                # Get the relevant parameters out of the params_dict dictionary\n",
    "                mu = params_dict[breed][feature_name][\"mu\"]\n",
    "                sigma = params_dict[breed][feature_name][\"sigma\"]\n",
    "\n",
    "                # Compute the relevant pdf given the distribution and the estimated parameters\n",
    "                probability_f = pdf_gaussian(feature_val, mu, sigma)\n",
    "\n",
    "            case \"bark_days\":\n",
    "                # Get the relevant parameters out of the params_dict dictionary\n",
    "                n = params_dict[breed][feature_name][\"n\"]\n",
    "                p = params_dict[breed][feature_name][\"p\"]\n",
    "\n",
    "                # Compute the relevant pmf given the distribution and the estimated parameters\n",
    "                probability_f = pmf_binomial(int(feature_val), n, p)\n",
    "\n",
    "            case \"ear_head_ratio\":\n",
    "                # Get the relevant parameters out of the params_dict dictionary\n",
    "                a = params_dict[breed][feature_name][\"a\"]\n",
    "                b = params_dict[breed][feature_name][\"b\"]\n",
    "\n",
    "                # Compute the relevant pdf given the distribution and the estimated parameters\n",
    "                probability_f = pdf_uniform(feature_val, a, b)\n",
    "\n",
    "        # Multiply by probability of current feature\n",
    "        probability *= probability_f\n",
    "\n",
    "    return probability"
   ]
  },
  {
   "cell_type": "code",
   "execution_count": 27,
   "metadata": {},
   "outputs": [
    {
     "name": "stdout",
     "output_type": "stream",
     "text": [
      "Example dog has breed 1 and features: height = 28.63, weight = 21.56, bark_days = 13.00, ear_head_ratio = 0.27\n",
      "\n",
      "Probability of these features if dog is classified as breed 0: 6.989632718589034e-11\n",
      "Probability of these features if dog is classified as breed 1: 0.003826777832702482\n",
      "Probability of these features if dog is classified as breed 2: 7.959172138800549e-08\n"
     ]
    }
   ],
   "source": [
    "# Test your function\n",
    "\n",
    "example_dog = df_test[FEATURES].loc[0]\n",
    "example_breed = df_test[[\"breed\"]].loc[0][\"breed\"]\n",
    "print(\n",
    "    f\"Example dog has breed {example_breed} and features: height = {example_dog['height']:.2f}, weight = {example_dog['weight']:.2f}, bark_days = {example_dog['bark_days']:.2f}, ear_head_ratio = {example_dog['ear_head_ratio']:.2f}\\n\"\n",
    ")\n",
    "\n",
    "print(\n",
    "    f\"Probability of these features if dog is classified as breed 0: {prob_of_X_given_C([*example_dog], FEATURES, 0, train_params)}\"\n",
    ")\n",
    "print(\n",
    "    f\"Probability of these features if dog is classified as breed 1: {prob_of_X_given_C([*example_dog], FEATURES, 1, train_params)}\"\n",
    ")\n",
    "print(\n",
    "    f\"Probability of these features if dog is classified as breed 2: {prob_of_X_given_C([*example_dog], FEATURES, 2, train_params)}\"\n",
    ")"
   ]
  },
  {
   "cell_type": "code",
   "execution_count": 28,
   "metadata": {},
   "outputs": [],
   "source": [
    "def predict_breed(X, features, params_dict, probs_dict):\n",
    "    \"\"\"\n",
    "    Predicts the breed based on the input and features.\n",
    "\n",
    "    Args:\n",
    "        X (array-like): The input data for prediction.\n",
    "        features (array-like): The features used for prediction.\n",
    "        params_dict (dict): A dictionary containing parameters for different breeds.\n",
    "        probs_dict (dict): A dictionary containing probabilities for different breeds.\n",
    "\n",
    "    Returns:\n",
    "        int: The predicted breed index.\n",
    "    \"\"\"\n",
    "\n",
    "    posterior_breed_0 = prob_of_X_given_C(X, features, 0, params_dict) * probs_dict[0]\n",
    "    posterior_breed_1 = prob_of_X_given_C(X, features, 1, params_dict) * probs_dict[1]\n",
    "    posterior_breed_2 = prob_of_X_given_C(X, features, 2, params_dict) * probs_dict[2]\n",
    "\n",
    "    # Save the breed with the maximum posterior\n",
    "    # Hint: You can create a numpy array with the posteriors and then use np.argmax\n",
    "    prediction = np.argmax(\n",
    "        np.array([posterior_breed_0, posterior_breed_1, posterior_breed_2])\n",
    "    )\n",
    "\n",
    "    return prediction"
   ]
  },
  {
   "cell_type": "code",
   "execution_count": 29,
   "metadata": {},
   "outputs": [
    {
     "name": "stdout",
     "output_type": "stream",
     "text": [
      "Example dog has breed 1 and Naive Bayes classified it as 1\n"
     ]
    }
   ],
   "source": [
    "# Test your function\n",
    "\n",
    "example_pred = predict_breed([*example_dog], FEATURES, train_params, train_class_probs)\n",
    "print(\n",
    "    f\"Example dog has breed {example_breed} and Naive Bayes classified it as {example_pred}\"\n",
    ")"
   ]
  },
  {
   "cell_type": "code",
   "execution_count": 31,
   "metadata": {},
   "outputs": [
    {
     "name": "stdout",
     "output_type": "stream",
     "text": [
      "Accuracy score for the test split: 1.00\n"
     ]
    }
   ],
   "source": [
    "preds = df_test.apply(\n",
    "    lambda x: predict_breed([*x[FEATURES]], FEATURES, train_params, train_class_probs),\n",
    "    axis=1,\n",
    ")\n",
    "test_acc = accuracy_score(df_test[\"breed\"], preds)\n",
    "print(f\"Accuracy score for the test split: {test_acc:.2f}\")"
   ]
  },
  {
   "cell_type": "code",
   "execution_count": 32,
   "metadata": {},
   "outputs": [
    {
     "data": {
      "text/html": [
       "<div>\n",
       "<style scoped>\n",
       "    .dataframe tbody tr th:only-of-type {\n",
       "        vertical-align: middle;\n",
       "    }\n",
       "\n",
       "    .dataframe tbody tr th {\n",
       "        vertical-align: top;\n",
       "    }\n",
       "\n",
       "    .dataframe thead th {\n",
       "        text-align: right;\n",
       "    }\n",
       "</style>\n",
       "<table border=\"1\" class=\"dataframe\">\n",
       "  <thead>\n",
       "    <tr style=\"text-align: right;\">\n",
       "      <th></th>\n",
       "      <th>text</th>\n",
       "      <th>spam</th>\n",
       "      <th>words</th>\n",
       "    </tr>\n",
       "  </thead>\n",
       "  <tbody>\n",
       "    <tr>\n",
       "      <th>0</th>\n",
       "      <td>Subject: naturally irresistible your corporate...</td>\n",
       "      <td>1</td>\n",
       "      <td>[marketing, provided, gaps, not, surethat, ext...</td>\n",
       "    </tr>\n",
       "    <tr>\n",
       "      <th>1</th>\n",
       "      <td>Subject: the stock trading gunslinger  fanny i...</td>\n",
       "      <td>1</td>\n",
       "      <td>[or, clothesman, not, gunslinger, bedtime, haw...</td>\n",
       "    </tr>\n",
       "    <tr>\n",
       "      <th>2</th>\n",
       "      <td>Subject: unbelievable new homes made easy  im ...</td>\n",
       "      <td>1</td>\n",
       "      <td>[,, all, foward, from, website, post, new, ., ...</td>\n",
       "    </tr>\n",
       "    <tr>\n",
       "      <th>3</th>\n",
       "      <td>Subject: 4 color printing special  request add...</td>\n",
       "      <td>1</td>\n",
       "      <td>[5110, ,, or, ., azusa, for, (, information, s...</td>\n",
       "    </tr>\n",
       "    <tr>\n",
       "      <th>4</th>\n",
       "      <td>Subject: do not have money , get software cds ...</td>\n",
       "      <td>1</td>\n",
       "      <td>[,, all, from, not, me, money, ., ended, finis...</td>\n",
       "    </tr>\n",
       "  </tbody>\n",
       "</table>\n",
       "</div>"
      ],
      "text/plain": [
       "                                                text  spam  \\\n",
       "0  Subject: naturally irresistible your corporate...     1   \n",
       "1  Subject: the stock trading gunslinger  fanny i...     1   \n",
       "2  Subject: unbelievable new homes made easy  im ...     1   \n",
       "3  Subject: 4 color printing special  request add...     1   \n",
       "4  Subject: do not have money , get software cds ...     1   \n",
       "\n",
       "                                               words  \n",
       "0  [marketing, provided, gaps, not, surethat, ext...  \n",
       "1  [or, clothesman, not, gunslinger, bedtime, haw...  \n",
       "2  [,, all, foward, from, website, post, new, ., ...  \n",
       "3  [5110, ,, or, ., azusa, for, (, information, s...  \n",
       "4  [,, all, from, not, me, money, ., ended, finis...  "
      ]
     },
     "execution_count": 32,
     "metadata": {},
     "output_type": "execute_result"
    }
   ],
   "source": [
    "# Load the dataset\n",
    "emails = pd.read_csv(\"emails.csv\")\n",
    "\n",
    "\n",
    "# Helper function that converts text to lowercase and splits words into a list\n",
    "def process_email(text):\n",
    "    \"\"\"\n",
    "    Processes the given email text by converting it to lowercase, splitting it into words,\n",
    "    and returning a list of unique words.\n",
    "\n",
    "    Parameters:\n",
    "    - text (str): The email text to be processed.\n",
    "\n",
    "    Returns:\n",
    "    - list: A list of unique words extracted from the email text.\n",
    "    \"\"\"\n",
    "\n",
    "    text = text.lower()\n",
    "    return list(set(text.split()))\n",
    "\n",
    "\n",
    "# Create an extra column with the text converted to a lower-cased list of words\n",
    "emails[\"words\"] = emails[\"text\"].apply(process_email)\n",
    "\n",
    "# Show the first 5 rows\n",
    "emails.head(5)"
   ]
  },
  {
   "cell_type": "code",
   "execution_count": 33,
   "metadata": {},
   "outputs": [],
   "source": [
    "def word_freq_per_class(df):\n",
    "    \"\"\"\n",
    "    Calculates the frequency of words in each class (spam and ham) based on a given dataframe.\n",
    "\n",
    "    Args:\n",
    "        df (pandas.DataFrame): The input dataframe containing email data,\n",
    "        with a column named 'words' representing the words in each email.\n",
    "\n",
    "    Returns:\n",
    "        dict: A dictionary containing the frequency of words in each class.\n",
    "        The keys of the dictionary are words, and the values are nested dictionaries with keys\n",
    "        'spam' and 'ham' representing the frequency of the word in spam and ham emails, respectively.\n",
    "    \"\"\"\n",
    "\n",
    "    word_freq_dict = {}\n",
    "\n",
    "    # Hint: You can use the iterrows() method to iterate over the rows of a dataframe.\n",
    "    # This method yields an index and the data in the row so you can ignore the first returned value.\n",
    "    for _, data in df.iterrows():\n",
    "        # Iterate over the words in each email\n",
    "        for word in data[\"words\"]:\n",
    "            # Check if word doesn't exist within the dictionary\n",
    "            if word not in word_freq_dict:\n",
    "                # If word doesn't exist, initialize the count at 0\n",
    "                word_freq_dict[word] = {\"spam\": 0, \"ham\": 0}\n",
    "\n",
    "            # Check if the email was spam\n",
    "            match data[\"spam\"]:\n",
    "                case 0:\n",
    "                    # If ham then add 1 to the count of ham\n",
    "                    word_freq_dict[word][\"ham\"] += 1\n",
    "                case 1:\n",
    "                    # If spam then add 1 to the count of spam\n",
    "                    word_freq_dict[word][\"spam\"] += 1\n",
    "\n",
    "    return word_freq_dict"
   ]
  },
  {
   "cell_type": "code",
   "execution_count": 34,
   "metadata": {},
   "outputs": [
    {
     "name": "stdout",
     "output_type": "stream",
     "text": [
      "Frequency in both classes for word 'lottery': {'spam': 8, 'ham': 0}\n",
      "\n",
      "Frequency in both classes for word 'sale': {'spam': 38, 'ham': 41}\n",
      "\n",
      "Word 'asdfg' not in corpus\n"
     ]
    }
   ],
   "source": [
    "# Test your function\n",
    "\n",
    "word_freq = word_freq_per_class(emails)\n",
    "print(f\"Frequency in both classes for word 'lottery': {word_freq['lottery']}\\n\")\n",
    "print(f\"Frequency in both classes for word 'sale': {word_freq['sale']}\\n\")\n",
    "\n",
    "try:\n",
    "    word_freq[\"asdfg\"]\n",
    "except KeyError:\n",
    "    print(\"Word 'asdfg' not in corpus\")"
   ]
  },
  {
   "cell_type": "code",
   "execution_count": 35,
   "metadata": {},
   "outputs": [],
   "source": [
    "def class_frequencies(df):\n",
    "    \"\"\"\n",
    "    Calculate the frequencies of classes in a DataFrame.\n",
    "\n",
    "    Args:\n",
    "        df (DataFrame): The input DataFrame containing a column 'spam' indicating class labels.\n",
    "\n",
    "    Returns:\n",
    "        dict: A dictionary containing the frequencies of the classes.\n",
    "            The keys are 'spam' and 'ham', representing the class labels.\n",
    "            The values are the corresponding frequencies in the DataFrame.\n",
    "    \"\"\"\n",
    "\n",
    "    class_freq_dict = {\n",
    "        # You can create a df that only includes data for a certain category like this:\n",
    "        # df[df['category']==category_value] and then use len(df) to check the number of rows.\n",
    "        \"spam\": len(df[df[\"spam\"] == 1]),\n",
    "        \"ham\": len(df[df[\"spam\"] == 0]),\n",
    "    }\n",
    "\n",
    "    return class_freq_dict"
   ]
  },
  {
   "cell_type": "code",
   "execution_count": 36,
   "metadata": {},
   "outputs": [
    {
     "name": "stdout",
     "output_type": "stream",
     "text": [
      "Small dataset:\n",
      "\n",
      "The frequencies for each class are {'spam': 10, 'ham': 0}\n",
      "\n",
      "The proportion of spam in the dataset is: 100.00%\n",
      "\n",
      "The proportion of ham in the dataset is: 0.00%\n",
      "\n",
      "\n",
      "Full dataset:\n",
      "\n",
      "The frequencies for each class are {'spam': 1368, 'ham': 4360}\n",
      "\n",
      "The proportion of spam in the dataset is: 23.88%\n",
      "\n",
      "The proportion of ham in the dataset is: 76.12%\n"
     ]
    }
   ],
   "source": [
    "# Test your function\n",
    "\n",
    "class_freq = class_frequencies(emails[:10])\n",
    "print(f\"Small dataset:\\n\\nThe frequencies for each class are {class_freq}\\n\")\n",
    "print(\n",
    "    f\"The proportion of spam in the dataset is: {100*class_freq['spam']/len(emails[:10]):.2f}%\\n\"\n",
    ")\n",
    "print(\n",
    "    f\"The proportion of ham in the dataset is: {100*class_freq['ham']/len(emails[:10]):.2f}%\\n\"\n",
    ")\n",
    "\n",
    "class_freq = class_frequencies(emails)\n",
    "print(f\"\\nFull dataset:\\n\\nThe frequencies for each class are {class_freq}\\n\")\n",
    "print(\n",
    "    f\"The proportion of spam in the dataset is: {100*class_freq['spam']/len(emails):.2f}%\\n\"\n",
    ")\n",
    "print(\n",
    "    f\"The proportion of ham in the dataset is: {100*class_freq['ham']/len(emails):.2f}%\"\n",
    ")"
   ]
  },
  {
   "cell_type": "code",
   "execution_count": 37,
   "metadata": {},
   "outputs": [],
   "source": [
    "def naive_bayes_classifier(text, word_freq=word_freq, class_freq=class_freq):\n",
    "    \"\"\"\n",
    "    Implements a naive Bayes classifier to determine the probability of an email being spam.\n",
    "\n",
    "    Args:\n",
    "        text (str): The input email text to classify.\n",
    "\n",
    "        word_freq (dict): A dictionary containing word frequencies in the training corpus.\n",
    "        The keys are words, and the values are dictionaries containing frequencies for 'spam' and 'ham' classes.\n",
    "\n",
    "        class_freq (dict): A dictionary containing class frequencies in the training corpus.\n",
    "        The keys are class labels ('spam' and 'ham'), and the values are the respective frequencies.\n",
    "\n",
    "    Returns:\n",
    "        float: The probability of the email being spam.\n",
    "\n",
    "    \"\"\"\n",
    "\n",
    "    # Convert the text to lowercase-only\n",
    "    text = text.lower()\n",
    "\n",
    "    # This is a list containing the words of the email\n",
    "    words = set(text.split())\n",
    "\n",
    "    cumulative_product_spam = 1.0\n",
    "    cumulative_product_ham = 1.0\n",
    "\n",
    "    # Iterate over the words in the email\n",
    "    for word in words:\n",
    "        # You should only include words that exist in the corpus in your calculations\n",
    "        if word in word_freq:\n",
    "            # Calculate the probability of the word appearing in a spam email\n",
    "            cumulative_product_spam *= word_freq[word][\"spam\"] / (\n",
    "                word_freq[word][\"spam\"] + word_freq[word][\"ham\"]\n",
    "            )\n",
    "\n",
    "            # Calculate the probability of the word appearing in a ham email\n",
    "            cumulative_product_ham *= word_freq[word][\"ham\"] / (\n",
    "                word_freq[word][\"spam\"] + word_freq[word][\"ham\"]\n",
    "            )\n",
    "\n",
    "    # Calculate the likelihood of the words appearing in the email given that it is spam\n",
    "    likelihood_word_given_spam = cumulative_product_spam * class_freq[\"spam\"]\n",
    "\n",
    "    # Calculate the likelihood of the words appearing in the email given that it is ham\n",
    "    likelihood_word_given_ham = cumulative_product_ham * class_freq[\"ham\"]\n",
    "\n",
    "    # Calculate the posterior probability of the email being spam given that the words appear in the email (the probability of being a spam given the email content)\n",
    "    prob_spam = likelihood_word_given_spam / (\n",
    "        likelihood_word_given_spam + likelihood_word_given_ham\n",
    "    )\n",
    "\n",
    "    return prob_spam"
   ]
  },
  {
   "cell_type": "code",
   "execution_count": 38,
   "metadata": {},
   "outputs": [
    {
     "name": "stdout",
     "output_type": "stream",
     "text": [
      "Probability of spam for email 'enter the lottery to win three million dollars': 100.00%\n",
      "\n",
      "Probability of spam for email 'meet me at the lobby of the hotel at nine am': 0.00%\n",
      "\n",
      "Probability of spam for email '9898 asjfkjfdj': 23.88%\n",
      "\n"
     ]
    }
   ],
   "source": [
    "# Test your function\n",
    "\n",
    "msg = \"enter the lottery to win three million dollars\"\n",
    "print(\n",
    "    f\"Probability of spam for email '{msg}': {100*naive_bayes_classifier(msg):.2f}%\\n\"\n",
    ")\n",
    "\n",
    "msg = \"meet me at the lobby of the hotel at nine am\"\n",
    "print(\n",
    "    f\"Probability of spam for email '{msg}': {100*naive_bayes_classifier(msg):.2f}%\\n\"\n",
    ")\n",
    "\n",
    "msg = \"9898 asjfkjfdj\"\n",
    "print(\n",
    "    f\"Probability of spam for email '{msg}': {100*naive_bayes_classifier(msg):.2f}%\\n\"\n",
    ")"
   ]
  },
  {
   "cell_type": "code",
   "execution_count": null,
   "metadata": {},
   "outputs": [],
   "source": []
  }
 ],
 "metadata": {
  "kernelspec": {
   "display_name": "documentation",
   "language": "python",
   "name": "python3"
  },
  "language_info": {
   "codemirror_mode": {
    "name": "ipython",
    "version": 3
   },
   "file_extension": ".py",
   "mimetype": "text/x-python",
   "name": "python",
   "nbconvert_exporter": "python",
   "pygments_lexer": "ipython3",
   "version": "3.12.0"
  }
 },
 "nbformat": 4,
 "nbformat_minor": 2
}
